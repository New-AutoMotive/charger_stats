{
  "nbformat": 4,
  "nbformat_minor": 0,
  "metadata": {
    "colab": {
      "name": "02) Charging device grant statistics.ipynb",
      "provenance": [],
      "authorship_tag": "ABX9TyPaSOiCWwqXbEECvgkQw/Gh",
      "include_colab_link": true
    },
    "kernelspec": {
      "name": "python3",
      "display_name": "Python 3"
    },
    "language_info": {
      "name": "python"
    }
  },
  "cells": [
    {
      "cell_type": "markdown",
      "metadata": {
        "id": "view-in-github",
        "colab_type": "text"
      },
      "source": [
        "<a href=\"https://colab.research.google.com/github/bennelmes/charger_stats/blob/main/02)%20Charging_device_grant_statistics.ipynb\" target=\"_parent\"><img src=\"https://colab.research.google.com/assets/colab-badge.svg\" alt=\"Open In Colab\"/></a>"
      ]
    },
    {
      "cell_type": "code",
      "execution_count": 1,
      "metadata": {
        "id": "3yRohs3kzI9I"
      },
      "outputs": [],
      "source": [
        "import pandas as pd\n",
        "import numpy as np"
      ]
    },
    {
      "cell_type": "code",
      "source": [
        "# Run this block if running this notebook in Colab"
      ],
      "metadata": {
        "id": "sYmrBosl00q0"
      },
      "execution_count": null,
      "outputs": []
    },
    {
      "cell_type": "markdown",
      "source": [
        "This script will download and clean up the DfT's charging device grant scheme statistics, which show how many grants have been awarded under each of the UK's charging device grant schemes. \n",
        "\n",
        "There are 12 tables in the excel file, which will be imported and cleaned here, making it easy to do analysis of the data."
      ],
      "metadata": {
        "id": "DuGQkwGE0gqX"
      }
    },
    {
      "cell_type": "code",
      "source": [
        "# Paste the latest link to the data here:\n",
        "\n",
        "url = 'https://assets.publishing.service.gov.uk/government/uploads/system/uploads/attachment_data/file/1032677/electric-vehicle-charging-device-grant-scheme-statistics-october-2021.ods'"
      ],
      "metadata": {
        "id": "0FRxTEyp0aEK"
      },
      "execution_count": 2,
      "outputs": []
    },
    {
      "cell_type": "code",
      "source": [
        ""
      ],
      "metadata": {
        "id": "vbHr3AfX0z1Q"
      },
      "execution_count": null,
      "outputs": []
    }
  ]
}